{
 "cells": [
  {
   "cell_type": "code",
   "execution_count": null,
   "id": "71cfc03b",
   "metadata": {},
   "outputs": [],
   "source": [
    "from music21 import *\n",
    "from IPython.display import Image\n",
    "\n",
    "us = environment.UserSettings()\n",
    "# work computers location\n",
    "us[\"musicxmlPath\"] = (\n",
    "    \"C:/Users/circ8/Documents/Chris/MuseScorePortableLegacy3/MuseScorePortable.exe\"\n",
    ")\n",
    "# macOS location\n",
    "# us['musicxmlPath'] = '/Applications/MuseScore 3.app/Contents/MacOS/mscore'\n",
    "\n",
    "\n",
    "def music(notes: str, midi: bool = False):\n",
    "    s = stream.Score()\n",
    "    part = stream.Part()\n",
    "\n",
    "    # get info\n",
    "    info_start = 5\n",
    "\n",
    "    for i in range(info_start, len(notes)):\n",
    "        if notes[i : i + 5] == \"INFO \":\n",
    "            info_end = i\n",
    "\n",
    "    info = list(filter(lambda x: len(x) > 0, notes[info_start:info_end].split(\" \")))\n",
    "\n",
    "    # set clef\n",
    "    if info[0].lower() == \"treble\":\n",
    "        s.append(instrument.AcousticGuitar())\n",
    "        part.append(clef.TrebleClef())\n",
    "    elif info[0].lower() == \"bass\":\n",
    "        part.append(clef.BassClef())\n",
    "    elif info[0].lower() == \"guitar\":\n",
    "        part.append(clef.Treble8vbClef())\n",
    "\n",
    "    # set key\n",
    "    keys = [\n",
    "        [\"cb\", -7],\n",
    "        [\"gb\", -6],\n",
    "        [\"db\", -5],\n",
    "        [\"ab\", -4],\n",
    "        [\"eb\", -3],\n",
    "        [\"bb\", -2],\n",
    "        [\"f\", -1],\n",
    "        [\"c\", 0],\n",
    "        [\"g\", 1],\n",
    "        [\"d\", 2],\n",
    "        [\"a\", 3],\n",
    "        [\"e\", 4],\n",
    "        [\"b\", 5],\n",
    "        [\"f#\", 6],\n",
    "        [\"c#\", 7],\n",
    "    ]\n",
    "    for k in keys:\n",
    "        if info[1].lower() == k[0]:\n",
    "            part.append(key.KeySignature(k[1]))\n",
    "\n",
    "    # set time signature\n",
    "    part.append(meter.TimeSignature(info[2]))\n",
    "\n",
    "    # set tempo\n",
    "    s.append(tempo.MetronomeMark(number=int(info[3])))\n",
    "\n",
    "    # add notes\n",
    "    notes = notes[info_end + 5 :].split(\" \")\n",
    "    add_notes = []\n",
    "    for n in notes:\n",
    "        # add chord name\n",
    "        if n[0] == \"!\":\n",
    "            add_notes.append(harmony.ChordSymbol(n[1:]))\n",
    "        # start next measure on a new line\n",
    "        elif n == \"^\":\n",
    "            add_notes.append(layout.SystemLayout(isNew=True))\n",
    "        else:\n",
    "            # set variables\n",
    "            is_chord, is_tie, is_col, lyric = False, \"none\", \"\", \"\"\n",
    "            # if the note is a chord\n",
    "            if \"(\" in n:\n",
    "                is_chord = True\n",
    "                if \"[\" in n:\n",
    "                    for i in range(len(n)):\n",
    "                        if n[i] == \"[\":\n",
    "                            lyric_start = i + 1\n",
    "                        if n[i] == \"]\":\n",
    "                            lyric_end = i\n",
    "                    lyric = n[lyric_start:lyric_end]\n",
    "                    n = n[: lyric_start - 1]\n",
    "                note_name = n.replace(\"(\", \"\").replace(\")\", \"\").split(\",\")\n",
    "                if \"t\" in note_name[-1]:\n",
    "                    note_length = note_name[-1][-2:]\n",
    "                    note_name[-1] = note_name[-1][:-2]\n",
    "                else:\n",
    "                    note_length = note_name[-1][-1]\n",
    "                    note_name[-1] = note_name[-1][:-1]\n",
    "            else:\n",
    "                if \"{\" in n:\n",
    "                    is_tie = \"start\"\n",
    "                if \"}\" in n:\n",
    "                    is_tie = \"stop\"\n",
    "                if \"[\" in n:\n",
    "                    for i in range(len(n)):\n",
    "                        if n[i] == \"[\":\n",
    "                            lyric_start = i + 1\n",
    "                        if n[i] == \"]\":\n",
    "                            lyric_end = i\n",
    "                    lyric = n[lyric_start:lyric_end]\n",
    "                    n = n[: lyric_start - 1]\n",
    "                if n[-1] == \"t\":\n",
    "                    if n[0] == \"B\":\n",
    "                        is_col = \"#06538a\"\n",
    "                        note_name = n[1:-2].replace(\"{\", \"\").replace(\"}\", \"\")\n",
    "                    elif n[0] == \"R\":\n",
    "                        is_col = \"#8a062d\"\n",
    "                        note_name = n[1:-2].replace(\"{\", \"\").replace(\"}\", \"\")\n",
    "                    else:\n",
    "                        note_name = n[:-2].replace(\"{\", \"\").replace(\"}\", \"\")\n",
    "                    note_length = n[-2:]\n",
    "                else:\n",
    "                    if n[0] == \"B\":\n",
    "                        is_col = \"#06538a\"\n",
    "                        note_name = n[1:-1].replace(\"{\", \"\").replace(\"}\", \"\")\n",
    "                    elif n[0] == \"R\":\n",
    "                        is_col = \"#8a062d\"\n",
    "                        note_name = n[1:-1].replace(\"{\", \"\").replace(\"}\", \"\")\n",
    "                    else:\n",
    "                        note_name = n[:-1].replace(\"{\", \"\").replace(\"}\", \"\")\n",
    "                    note_length = n[-1:]\n",
    "            lengths = [\n",
    "                [\"w\", 4],\n",
    "                [\"h\", 2],\n",
    "                [\"d\", 3],\n",
    "                [\"q\", 1],\n",
    "                [\"u\", 1.5],\n",
    "                [\"e\", 0.5],\n",
    "                [\"s\", 0.25],\n",
    "            ]\n",
    "            for l in lengths:\n",
    "                if isinstance(note_length, str):\n",
    "                    if l[0] in note_length:\n",
    "                        if \"t\" in note_length:\n",
    "                            note_length = l[1] * 0.333333333\n",
    "                        else:\n",
    "                            note_length = l[1]\n",
    "            if is_tie == \"none\":\n",
    "                if is_col == \"\":\n",
    "                    if lyric != \"\":\n",
    "                        add_notes.append([note_name, note_length, lyric])\n",
    "                    else:\n",
    "                        add_notes.append([note_name, note_length])\n",
    "                else:\n",
    "                    if lyric != \"\":\n",
    "                        add_notes.append([note_name, note_length, is_col, lyric])\n",
    "                    else:\n",
    "                        add_notes.append([note_name, note_length, is_col])\n",
    "            else:\n",
    "                if is_col == \"\":\n",
    "                    if lyric != \"\":\n",
    "                        add_notes.append([note_name, note_length, is_tie, lyric])\n",
    "                    else:\n",
    "                        add_notes.append([note_name, note_length, is_col, is_tie])\n",
    "                else:\n",
    "                    if lyric != \"\":\n",
    "                        add_notes.append(\n",
    "                            [note_name, note_length, is_tie, is_col, lyric]\n",
    "                        )\n",
    "                    else:\n",
    "                        add_notes.append([note_name, note_length, is_tie, is_col])\n",
    "\n",
    "    for n in add_notes:\n",
    "        if isinstance(n, list):\n",
    "            if isinstance(n[0], list):\n",
    "                if len(n) == 3:\n",
    "                    add_n = chord.Chord(n[0], quarterLength=n[1])\n",
    "                    if n[2] in [\"start\", \"stop\"]:\n",
    "                        add_n.tie = tie.Tie(n[2])\n",
    "                    else:\n",
    "                        if \"-\" in n[2]:\n",
    "                            texp = expressions.TextExpression(n[2].replace(\"-\", \" \"))\n",
    "                        else:\n",
    "                            texp = expressions.TextExpression(n[2])\n",
    "                        texp.style.fontSize = 10\n",
    "                        # texp.style.fontFamily = \"Segoe UI\"\n",
    "                        texp.style.fontFamily = \"Times New Roman\"\n",
    "                        texp.placement = \"below\"\n",
    "                        part.append(texp)\n",
    "                else:\n",
    "                    add_n = chord.Chord(n[0], quarterLength=n[1])\n",
    "            else:\n",
    "                if n[0].lower() == \"r\":\n",
    "                    add_n = note.Rest(quarterLength=n[1])\n",
    "                elif n[0] in [\"slash\", \"s\"]:\n",
    "                    add_n = note.Unpitched()\n",
    "                    add_n.notehead = \"slash\"\n",
    "                    add_n.stemDirection = \"noStem\"\n",
    "                    add_n.volume.velocity = 0\n",
    "                elif n[0] not in [\"r\", \"slash\", \"s\"]:\n",
    "                    add_n = note.Note(n[0], quarterLength=n[1])\n",
    "            if len(n) == 3:\n",
    "                if n[2] in [\"start\", \"stop\"]:\n",
    "                    add_n.tie = tie.Tie(n[2])\n",
    "                elif n[2] in [\"#06538a\", \"#8a062d\"]:\n",
    "                    add_n.style.color = n[2]\n",
    "                else:\n",
    "                    texp = expressions.TextExpression(n[2].replace(\"-\", \" \"))\n",
    "                    texp.style.fontsize = 10\n",
    "                    texp.style.fontFamily = \"Segoe UI\"\n",
    "                    texp.placement = \"below\"\n",
    "                    part.append(texp)\n",
    "            if len(n) == 4:\n",
    "                # [note_name, note_length, is_col, lyric]\n",
    "                if n[2] in [\"start\", \"stop\"]:\n",
    "                    add_n.tie = tie.Tie(n[2])\n",
    "                else:\n",
    "                    add_n.style.color = n[2]\n",
    "                if n[3] not in [\"#06538a\", \"#8a062d\", \"start\", \"stop\"]:\n",
    "                    texp = expressions.TextExpression(n[3].replace(\"-\", \" \"))\n",
    "                    texp.style.fontSize = 10\n",
    "                    texp.style.fontFamily = \"Segoe UI\"\n",
    "                    texp.placement = \"below\"\n",
    "                    part.append(texp)\n",
    "                elif n[3] in [\"start\", \"stop\"]:\n",
    "                    add_n.tie = tie.Tie(n[3])\n",
    "                else:\n",
    "                    add_n.style.color = n[3]\n",
    "            elif len(n) == 5:\n",
    "                add_n.tie = tie.Tie(n[2])\n",
    "                add_n.style.color = n[3]\n",
    "                texp = expressions.TextExpression(n[4].replace(\"-\", \"\"))\n",
    "                texp.style.fontSize = 10\n",
    "                texp.style.fontFamily = \"Segoe UI\"\n",
    "                texp.placement = \"below\"\n",
    "                part.append(texp)\n",
    "            part.append(add_n)\n",
    "        else:\n",
    "            part.append(n)\n",
    "\n",
    "    if info[0].lower() == \"guitar\":\n",
    "        part.makeNotation()\n",
    "\n",
    "    s.append(part)\n",
    "\n",
    "    if info[0].lower() == \"guitar\":\n",
    "        s.makeNotation()\n",
    "\n",
    "    swung_part = stream.Part()\n",
    "\n",
    "    if midi:\n",
    "        step = 0.0\n",
    "        for item in part:\n",
    "            if isinstance(item, note.Note) or isinstance(item, note.Rest):\n",
    "                if str(step)[-1] == \"9\":\n",
    "                    step = float(round(step))\n",
    "                elif str(step)[-1] == \"2\":\n",
    "                    step = float(round(step))\n",
    "                if isinstance(item, note.Note):\n",
    "                    new_note = note.Note(item.pitch)\n",
    "                    if item.tie:\n",
    "                        if \"start\" in str(item.tie):\n",
    "                            new_note.tie = tie.Tie(\"start\")\n",
    "                        if \"stop\" in str(item.tie):\n",
    "                            new_note.tie = tie.Tie(\"stop\")\n",
    "                        if \"continue\" in str(item.tie):\n",
    "                            new_note.tie = tie.Tie(\"continue\")\n",
    "                else:\n",
    "                    new_note = note.Rest()\n",
    "                if str(step)[-2:] == \".0\":\n",
    "                    if item.quarterLength == 0.5:\n",
    "                        new_note.quarterLength = 0.333333333 * 2\n",
    "                    elif item.quarterLength == 1.5:\n",
    "                        new_note.quarterLength = 1 + (0.333333333 * 2)\n",
    "                    elif str(item.quarterLength) == \"1/3\":\n",
    "                        new_note.quarterLength = 0.333333333\n",
    "                    else:\n",
    "                        new_note.quarterLength = item.quarterLength\n",
    "                elif str(step)[-2:] == \".5\":\n",
    "                    if item.quarterLength == 0.5:\n",
    "                        new_note.quarterLength = 0.333333333\n",
    "                    elif item.quarterLength == 1.5:\n",
    "                        new_note.quarterLength = 1 + 0.333333333\n",
    "                    else:\n",
    "                        new_note.quarterLength = item.quarterLength\n",
    "                if str(item.quarterLength) == \"1/3\":\n",
    "                    new_note.quarterLength = 0.333333333\n",
    "                swung_part.append(new_note)\n",
    "                step += item.quarterLength\n",
    "            else:\n",
    "                swung_part.append(item)\n",
    "        swung_s = stream.Stream()\n",
    "        swung_s.append(tempo.MetronomeMark(number=int(info[3])))\n",
    "        guitar = instrument.Guitar()\n",
    "        swung_s.append(guitar)\n",
    "        swung_s.append(swung_part)\n",
    "        return swung_s.show(\"midi\")\n",
    "    else:\n",
    "        s2 = stream.Stream()\n",
    "        p2 = stream.Part()\n",
    "        for item in s:\n",
    "            if \"part\" in str(item).lower():\n",
    "                for i in range(0, len(item)):\n",
    "                    if item[i] != item[i - 1]:\n",
    "                        p2.append(item[i])\n",
    "            else:\n",
    "                s2.append(item)\n",
    "        s2.append(p2)\n",
    "        return Image(filename=s2.write(\"musicxml.png\"))"
   ]
  },
  {
   "cell_type": "markdown",
   "id": "ce63d9e1",
   "metadata": {},
   "source": [
    "# The Game Music Toolbox\n",
    "\n",
    "### Composition Techniques and Production Tools from 20 Iconic Game Soundtracks\n",
    "\n",
    "### Marios Aristopoulos"
   ]
  },
  {
   "cell_type": "markdown",
   "id": "18d70087",
   "metadata": {},
   "source": [
    "# Journey (2012)\n",
    "\n",
    "## A masterclass in monothematic scoring\n",
    "\n",
    "### About the game\n",
    "\n",
    "*Journey* is a third person story adventure game in which you take on the role of a silent protagonist that meditatively wanders across a vast desert. The player discovers the ruins of what was once a thriving civilization and will  have  to  battle  alone,  or  with  the  company  of  other  online  players,  against sandstorms, snow, and wind in a transformational journey towards the peak of a distant mountain.\n",
    "\n",
    "### Fun facts\n",
    "\n",
    "The  music  takes  the  auditory  and  narrative  lead  throughout  the  game  as  there is minimal sound design and no dialogue. It made history by being the first video game to receive a GRAMMY nomination for its soundtrack.\n",
    "\n",
    "### How did the composer get the gig?\n",
    "\n",
    "During his studies at USC, composer Austin Wintory wrote the music for a game called *Flow* that was another student’s Master’s thesis. This indie game unexpectedly went viral, and Sony picked it up for full-scale produc-tion  as  a  PS3  title.  Austin  stayed  in  contact  with  the  original  team,  and  eventually collaborated again in *Journey* for the full three years of its de-velopment. The success of this soundtrack was pivotal for Austin’s career and helped establish him as one of the most celebrated game composers (see his work on *Assassin’s Creed* in Chapter 9).\n",
    "\n",
    "### Composition technique – Monothematic scoring\n",
    "\n",
    "This soundtrack is a masterclass in monothematic scoring, the art of relying on a single central theme for the entire soundtrack. The theme is used as  a  symbol  of  you,  the  player,  and  develops  in  numerous  interesting  as  the journey unfolds. Let us examine some of the techniques Wintory uses to develop his main theme by comparing three different musical moments taken from three different points of the journey: the beginning (Nascene), the middle (Threshold), and the end (Apotheosis) (Figure 10.1)."
   ]
  },
  {
   "cell_type": "markdown",
   "id": "d69edd94",
   "metadata": {},
   "source": [
    "### Journey - thematic analysis"
   ]
  },
  {
   "cell_type": "code",
   "execution_count": 14,
   "id": "14fb50cb",
   "metadata": {},
   "outputs": [
    {
     "name": "stdout",
     "output_type": "stream",
     "text": [
      "Original theme - Nascence\n"
     ]
    },
    {
     "data": {
      "text/html": [
       "\n",
       "        <div id=\"midiPlayerDiv3815\"></div>\n",
       "        <link rel=\"stylesheet\" href=\"https://cuthbertLab.github.io/music21j/css/m21.css\">\n",
       "        \n",
       "        <script\n",
       "        src=\"https://cdnjs.cloudflare.com/ajax/libs/require.js/2.3.6/require.min.js\"\n",
       "        ></script>\n",
       "    \n",
       "        <script>\n",
       "        function midiPlayerDiv3815_play() {\n",
       "            const rq = require.config({\n",
       "                paths: {\n",
       "                    'music21': 'https://cuthbertLab.github.io/music21j/releases/music21.debug',\n",
       "                }\n",
       "            });\n",
       "            rq(['music21'], function(music21) {\n",
       "                mp = new music21.miditools.MidiPlayer();\n",
       "                mp.addPlayer(\"#midiPlayerDiv3815\");\n",
       "                mp.base64Load(\"data:audio/midi;base64,TVRoZAAAAAYAAQACJ2BNVHJrAAAAGgD/UQMPQkAA/1kCAAAA/1gEBAIYCM5g/y8ATVRyawAAAXMA/wMAAOAAQM5ggC8AAIAyAACANgAAkC9aAJAyWgCQNloAkDtagZ1AgDsAAJA7WrRAgDsAAJA5WpoggDkAAJA7WrRAgDsAAJA9WpoggD0AAIAtAACAMgAAgDQAAJAtWgCQMloAkDRaAJA+WoGdQIA+AACQOVqBnUCAOQAAgDcAAIA7AACAPgAAkDdaAJA7WgCQPloAkDtagZ1AgDsAAJA7WrRAgDsAAJA5WpoggDkAAJA7WrRAgDsAAJA9WpoggD0AAIAyAACANgAAgDkAAJAyWgCQNloAkDlaAJBCWoGDIIBCAACQPlqaIIA+AACANAAAgDcAAIA7AACQNFoAkDdaAJA7WgCQQFqBgyCAQAAAkD1amiCAPQAAgC0AAIAxAACANAAAkC1aAJAxWgCQNFoAkD5atECAPgAAkD1agoZAgD0AAJA5WoK7AIA5AACALwAAgDIAAIA2AACQL1oAkDJaAJA2WgCQO1qCuwCAOwDOYP8vAA==\");\n",
       "            });\n",
       "        }\n",
       "        if (typeof require === 'undefined') {\n",
       "            setTimeout(midiPlayerDiv3815_play, 2000);\n",
       "        } else {\n",
       "            midiPlayerDiv3815_play();\n",
       "        }\n",
       "        </script>"
      ],
      "text/plain": [
       "<IPython.core.display.HTML object>"
      ]
     },
     "metadata": {},
     "output_type": "display_data"
    },
    {
     "data": {
      "image/png": "[encoded data removed]",
      "text/plain": [
       "<IPython.core.display.Image object>"
      ]
     },
     "execution_count": 14,
     "metadata": {},
     "output_type": "execute_result"
    }
   ],
   "source": [
    "nascence = \"INFO treble c 4/4 60 INFO !Bm b3h b3e a3e b3e c#4e !Asus4 d4h a3h !G b3h b3e a3e b3e c#4e !D f#4u d4e !Em e4u c#4e !A d4e c#4{e c#4}d a3w !Bm b3w\"\n",
    "\n",
    "print(\"Original theme - Nascence\")\n",
    "\n",
    "music(nascence, True)\n",
    "music(nascence)"
   ]
  },
  {
   "cell_type": "code",
   "execution_count": 17,
   "id": "5daa54cc",
   "metadata": {},
   "outputs": [
    {
     "name": "stdout",
     "output_type": "stream",
     "text": [
      "Motif v2 - Threshold\n"
     ]
    },
    {
     "data": {
      "text/html": [
       "\n",
       "        <div id=\"midiPlayerDiv5412\"></div>\n",
       "        <link rel=\"stylesheet\" href=\"https://cuthbertLab.github.io/music21j/css/m21.css\">\n",
       "        \n",
       "        <script\n",
       "        src=\"https://cdnjs.cloudflare.com/ajax/libs/require.js/2.3.6/require.min.js\"\n",
       "        ></script>\n",
       "    \n",
       "        <script>\n",
       "        function midiPlayerDiv5412_play() {\n",
       "            const rq = require.config({\n",
       "                paths: {\n",
       "                    'music21': 'https://cuthbertLab.github.io/music21j/releases/music21.debug',\n",
       "                }\n",
       "            });\n",
       "            rq(['music21'], function(music21) {\n",
       "                mp = new music21.miditools.MidiPlayer();\n",
       "                mp.addPlayer(\"#midiPlayerDiv5412\");\n",
       "                mp.base64Load(\"data:audio/midi;base64,TVRoZAAAAAYAAQACJ2BNVHJrAAAAGgD/UQMHCuIA/1kCAAAA/1gEAwIYCM5g/y8ATVRyawAAALsA/wMAAOAAQM5gkEJagu9AgEIAAJBAWpoggEAAAJBCWrRAgEIAAJBEWpoggEQAAJBFWoK7AIBFAACQSVqBgyCASQAAkERagoZAgEQAAJBFWoGdQIBFAM5gkEJagu9AgEIAAJBAWpoggEAAAJBCWrRAgEIAAJBEWpoggEQAAJBFWoGdQIBFAACQR1rOYIBHAACQS1qCuwCASwAAkExagZ1AgEwAAJBLWoGdQIBLAACQSVq0QIBJAM5g/y8A\");\n",
       "            });\n",
       "        }\n",
       "        if (typeof require === 'undefined') {\n",
       "            setTimeout(midiPlayerDiv5412_play, 2000);\n",
       "        } else {\n",
       "            midiPlayerDiv5412_play();\n",
       "        }\n",
       "        </script>"
      ],
      "text/plain": [
       "<IPython.core.display.HTML object>"
      ]
     },
     "metadata": {},
     "output_type": "display_data"
    },
    {
     "data": {
      "image/png": "[encoded data removed]",
      "text/plain": [
       "<IPython.core.display.Image object>"
      ]
     },
     "execution_count": 17,
     "metadata": {},
     "output_type": "execute_result"
    }
   ],
   "source": [
    "threshold_motif_v2 = \"INFO treble c 3/4 130 INFO f#4{d f#4}u e4e f#4e g#4e a4{d a4}q c#5u g#4{e g#4}d a4h rq ^ \"\n",
    "threshold_motif_v2 += \"f#4{d f#4}u e4e f#4e g#4e a4h b4q d#5{d d#5}q e5h d#5h c#5e re\"\n",
    "\n",
    "print(\"Motif v2 - Threshold\")\n",
    "\n",
    "music(threshold_motif_v2, True)\n",
    "music(threshold_motif_v2)"
   ]
  },
  {
   "cell_type": "code",
   "execution_count": 21,
   "id": "fdedfc7b",
   "metadata": {},
   "outputs": [
    {
     "name": "stdout",
     "output_type": "stream",
     "text": [
      "Motif v3 - Threshold\n"
     ]
    },
    {
     "data": {
      "text/html": [
       "\n",
       "        <div id=\"midiPlayerDiv6323\"></div>\n",
       "        <link rel=\"stylesheet\" href=\"https://cuthbertLab.github.io/music21j/css/m21.css\">\n",
       "        \n",
       "        <script\n",
       "        src=\"https://cdnjs.cloudflare.com/ajax/libs/require.js/2.3.6/require.min.js\"\n",
       "        ></script>\n",
       "    \n",
       "        <script>\n",
       "        function midiPlayerDiv6323_play() {\n",
       "            const rq = require.config({\n",
       "                paths: {\n",
       "                    'music21': 'https://cuthbertLab.github.io/music21j/releases/music21.debug',\n",
       "                }\n",
       "            });\n",
       "            rq(['music21'], function(music21) {\n",
       "                mp = new music21.miditools.MidiPlayer();\n",
       "                mp.addPlayer(\"#midiPlayerDiv6323\");\n",
       "                mp.base64Load(\"data:audio/midi;base64,TVRoZAAAAAYAAQACJ2BNVHJrAAAAGgD/UQMHCuIA/1kCAAAA/1gEAwIYCM5g/y8ATVRyawAAAEcA/wMAAOAAQM5gkEVagewggEUAAJBEWoGDIIBEAACQQlqaIIBCAACQQFq0QIBAAACQP1qaIIA/AACQPVqB7CCAPQDOYP8vAA==\");\n",
       "            });\n",
       "        }\n",
       "        if (typeof require === 'undefined') {\n",
       "            setTimeout(midiPlayerDiv6323_play, 2000);\n",
       "        } else {\n",
       "            midiPlayerDiv6323_play();\n",
       "        }\n",
       "        </script>"
      ],
      "text/plain": [
       "<IPython.core.display.HTML object>"
      ]
     },
     "metadata": {},
     "output_type": "display_data"
    },
    {
     "data": {
      "image/png": "[encoded data removed]",
      "text/plain": [
       "<IPython.core.display.Image object>"
      ]
     },
     "execution_count": 21,
     "metadata": {},
     "output_type": "execute_result"
    }
   ],
   "source": [
    "threshold_motif_v3 = \"INFO treble c 3/4 130 INFO a4d g#4u f#4e e4e d#4e c#4d\"\n",
    "\n",
    "print(\"Motif v3 - Threshold\")\n",
    "\n",
    "music(threshold_motif_v3, True)\n",
    "music(threshold_motif_v3)"
   ]
  },
  {
   "cell_type": "code",
   "execution_count": 22,
   "id": "e011bd8e",
   "metadata": {},
   "outputs": [
    {
     "name": "stdout",
     "output_type": "stream",
     "text": [
      "Motif v4 - Threshold\n"
     ]
    },
    {
     "data": {
      "text/html": [
       "\n",
       "        <div id=\"midiPlayerDiv6580\"></div>\n",
       "        <link rel=\"stylesheet\" href=\"https://cuthbertLab.github.io/music21j/css/m21.css\">\n",
       "        \n",
       "        <script\n",
       "        src=\"https://cdnjs.cloudflare.com/ajax/libs/require.js/2.3.6/require.min.js\"\n",
       "        ></script>\n",
       "    \n",
       "        <script>\n",
       "        function midiPlayerDiv6580_play() {\n",
       "            const rq = require.config({\n",
       "                paths: {\n",
       "                    'music21': 'https://cuthbertLab.github.io/music21j/releases/music21.debug',\n",
       "                }\n",
       "            });\n",
       "            rq(['music21'], function(music21) {\n",
       "                mp = new music21.miditools.MidiPlayer();\n",
       "                mp.addPlayer(\"#midiPlayerDiv6580\");\n",
       "                mp.base64Load(\"data:audio/midi;base64,TVRoZAAAAAYAAQACJ2BNVHJrAAAAGgD/UQMHCuIA/1kCAAAA/1gEAwIYCM5g/y8ATVRyawAAAGIA/wMAAOAAQM5gkElagu9AgEkAAJBHWpoggEcAAJBJWrRAgEkAAJBLWpoggEsAAJBMWoLvQIBMAACQS1qaIIBLAACQTFq0QIBMAACQTlqaIIBOAACQUFqB7CCAUADOYP8vAA==\");\n",
       "            });\n",
       "        }\n",
       "        if (typeof require === 'undefined') {\n",
       "            setTimeout(midiPlayerDiv6580_play, 2000);\n",
       "        } else {\n",
       "            midiPlayerDiv6580_play();\n",
       "        }\n",
       "        </script>"
      ],
      "text/plain": [
       "<IPython.core.display.HTML object>"
      ]
     },
     "metadata": {},
     "output_type": "display_data"
    },
    {
     "data": {
      "image/png": "[encoded data removed]",
      "text/plain": [
       "<IPython.core.display.Image object>"
      ]
     },
     "execution_count": 22,
     "metadata": {},
     "output_type": "execute_result"
    }
   ],
   "source": [
    "threshold_motif_v4 = \"INFO treble c 3/4 130 INFO c#5{d c#5}u b4e c#5e d#5e e5{d e5}u d#5e e5e f#5e g#5d\"\n",
    "\n",
    "print(\"Motif v4 - Threshold\")\n",
    "\n",
    "music(threshold_motif_v4, True)\n",
    "music(threshold_motif_v4)"
   ]
  },
  {
   "cell_type": "code",
   "execution_count": 28,
   "id": "fc72f9ee",
   "metadata": {},
   "outputs": [
    {
     "name": "stdout",
     "output_type": "stream",
     "text": [
      "Motif v5 - Apotheosis\n"
     ]
    },
    {
     "data": {
      "text/html": [
       "\n",
       "        <div id=\"midiPlayerDiv9167\"></div>\n",
       "        <link rel=\"stylesheet\" href=\"https://cuthbertLab.github.io/music21j/css/m21.css\">\n",
       "        \n",
       "        <script\n",
       "        src=\"https://cdnjs.cloudflare.com/ajax/libs/require.js/2.3.6/require.min.js\"\n",
       "        ></script>\n",
       "    \n",
       "        <script>\n",
       "        function midiPlayerDiv9167_play() {\n",
       "            const rq = require.config({\n",
       "                paths: {\n",
       "                    'music21': 'https://cuthbertLab.github.io/music21j/releases/music21.debug',\n",
       "                }\n",
       "            });\n",
       "            rq(['music21'], function(music21) {\n",
       "                mp = new music21.miditools.MidiPlayer();\n",
       "                mp.addPlayer(\"#midiPlayerDiv9167\");\n",
       "                mp.base64Load(\"data:audio/midi;base64,TVRoZAAAAAYAAQACJ2BNVHJrAAAAGgD/UQMHoSAA/1kCAgAA/1gEBAIYCM5g/y8ATVRyawAAAPYA/wMAAOAAQM5ggC8AAIAyAACANgAAkC9aAJAyWgCQNloAkFZag4lggFYAAJBVWs5ggFUAAJBWWs5ggFYAAJBYWs5ggFgAAIA3AACAOwAAgD4AAJA3WgCQO1oAkD5aAJBaWoK7AIBaAACALQAAgDEAAIA0AACQLVoAkDFaAJA0WgCQU1qCuwCAUwAAgC8AAIAyAACANgAAkC9aAJAyWgCQNloAkFZag4lggFYAAJBVWs5ggFUAAJBWWs5ggFYAAJBYWs5ggFgAAIAwAACANAAAgDcAAIA7AACQMFoAkDRaAJA3WgCQO1oAkF9agrsAgF8AzmD/LwA=\");\n",
       "            });\n",
       "        }\n",
       "        if (typeof require === 'undefined') {\n",
       "            setTimeout(midiPlayerDiv9167_play, 2000);\n",
       "        } else {\n",
       "            midiPlayerDiv9167_play();\n",
       "        }\n",
       "        </script>"
      ],
      "text/plain": [
       "<IPython.core.display.HTML object>"
      ]
     },
     "metadata": {},
     "output_type": "display_data"
    },
    {
     "data": {
      "image/png": "[encoded data removed]",
      "text/plain": [
       "<IPython.core.display.Image object>"
      ]
     },
     "execution_count": 28,
     "metadata": {},
     "output_type": "execute_result"
    }
   ],
   "source": [
    "apotheosis = \"INFO treble d 4/4 120 INFO !Bm d6{w d6}q c#6q d6q e6q !G f#6w !A b5w !Bm d6{w d6}q c#6q d6q e6q !Cmaj7 b6w\"\n",
    "\n",
    "print(\"Motif v5 - Apotheosis\")\n",
    "\n",
    "music(apotheosis, True)\n",
    "music(apotheosis)"
   ]
  },
  {
   "cell_type": "markdown",
   "id": "de0f195e",
   "metadata": {},
   "source": [
    "*Figure 10.1* An analysis of the thematic development of the original *Journey* theme at different moments in the game. All notes have been placed in the G clef for simplicity."
   ]
  }
 ],
 "metadata": {
  "kernelspec": {
   "display_name": ".venv",
   "language": "python",
   "name": "python3"
  },
  "language_info": {
   "codemirror_mode": {
    "name": "ipython",
    "version": 3
   },
   "file_extension": ".py",
   "mimetype": "text/x-python",
   "name": "python",
   "nbconvert_exporter": "python",
   "pygments_lexer": "ipython3",
   "version": "3.11.6"
  }
 },
 "nbformat": 4,
 "nbformat_minor": 5
}
