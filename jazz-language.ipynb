{
 "cells": [
  {
   "cell_type": "code",
   "execution_count": 1,
   "id": "5138d8e7",
   "metadata": {},
   "outputs": [],
   "source": [
    "from music21 import *\n",
    "from IPython.display import Image\n",
    "\n",
    "us = environment.UserSettings()\n",
    "# work computers location\n",
    "us[\"musicxmlPath\"] = (\n",
    "    \"C:/Users/circ8/Documents/Chris/MuseScorePortableLegacy3/MuseScorePortable.exe\"\n",
    ")\n",
    "# macOS location\n",
    "# us['musicxmlPath'] = '/Applications/MuseScore 3.app/Contents/MacOS/mscore'\n",
    "\n",
    "\n",
    "def music(notes: str, midi: bool = False):\n",
    "    s = stream.Score()\n",
    "    part = stream.Part()\n",
    "\n",
    "    # get info\n",
    "    info_start = 5\n",
    "\n",
    "    for i in range(info_start, len(notes)):\n",
    "        if notes[i : i + 5] == \"INFO \":\n",
    "            info_end = i\n",
    "\n",
    "    info = list(filter(lambda x: len(x) > 0, notes[info_start:info_end].split(\" \")))\n",
    "\n",
    "    # set clef\n",
    "    if info[0].lower() == \"treble\":\n",
    "        s.append(instrument.AcousticGuitar())\n",
    "        part.append(clef.TrebleClef())\n",
    "    elif info[0].lower() == \"bass\":\n",
    "        part.append(clef.BassClef())\n",
    "    elif info[0].lower() == \"guitar\":\n",
    "        part.append(clef.Treble8vbClef())\n",
    "\n",
    "    # set key\n",
    "    keys = [\n",
    "        [\"cb\", -7],\n",
    "        [\"gb\", -6],\n",
    "        [\"db\", -5],\n",
    "        [\"ab\", -4],\n",
    "        [\"eb\", -3],\n",
    "        [\"bb\", -2],\n",
    "        [\"f\", -1],\n",
    "        [\"c\", 0],\n",
    "        [\"g\", 1],\n",
    "        [\"d\", 2],\n",
    "        [\"a\", 3],\n",
    "        [\"e\", 4],\n",
    "        [\"b\", 5],\n",
    "        [\"f#\", 6],\n",
    "        [\"c#\", 7],\n",
    "    ]\n",
    "    for k in keys:\n",
    "        if info[1].lower() == k[0]:\n",
    "            part.append(key.KeySignature(k[1]))\n",
    "\n",
    "    # set time signature\n",
    "    part.append(meter.TimeSignature(info[2]))\n",
    "\n",
    "    # set tempo\n",
    "    s.append(tempo.MetronomeMark(number=int(info[3])))\n",
    "\n",
    "    # add notes\n",
    "    notes = notes[info_end + 5 :].split(\" \")\n",
    "    add_notes = []\n",
    "    for n in notes:\n",
    "        # add chord name\n",
    "        if n[0] == \"!\":\n",
    "            add_notes.append(harmony.ChordSymbol(n[1:]))\n",
    "        # start next measure on a new line\n",
    "        elif n == \"^\":\n",
    "            add_notes.append(layout.SystemLayout(isNew=True))\n",
    "        else:\n",
    "            # set variables\n",
    "            is_chord, is_tie, is_col, lyric = False, \"none\", \"\", \"\"\n",
    "            # if the note is a chord\n",
    "            if \"(\" in n:\n",
    "                is_chord = True\n",
    "                if \"[\" in n:\n",
    "                    for i in range(len(n)):\n",
    "                        if n[i] == \"[\":\n",
    "                            lyric_start = i + 1\n",
    "                        if n[i] == \"]\":\n",
    "                            lyric_end = i\n",
    "                    lyric = n[lyric_start:lyric_end]\n",
    "                    n = n[: lyric_start - 1]\n",
    "                note_name = n.replace(\"(\", \"\").replace(\")\", \"\").split(\",\")\n",
    "                if \"t\" in note_name[-1]:\n",
    "                    note_length = note_name[-1][-2:]\n",
    "                    note_name[-1] = note_name[-1][:-2]\n",
    "                else:\n",
    "                    note_length = note_name[-1][-1]\n",
    "                    note_name[-1] = note_name[-1][:-1]\n",
    "            else:\n",
    "                if \"{\" in n:\n",
    "                    is_tie = \"start\"\n",
    "                if \"}\" in n:\n",
    "                    is_tie = \"stop\"\n",
    "                if \"[\" in n:\n",
    "                    for i in range(len(n)):\n",
    "                        if n[i] == \"[\":\n",
    "                            lyric_start = i + 1\n",
    "                        if n[i] == \"]\":\n",
    "                            lyric_end = i\n",
    "                    lyric = n[lyric_start:lyric_end]\n",
    "                    n = n[: lyric_start - 1]\n",
    "                if n[-1] == \"t\":\n",
    "                    if n[0] == \"B\":\n",
    "                        is_col = \"#06538a\"\n",
    "                        note_name = n[1:-2].replace(\"{\", \"\").replace(\"}\", \"\")\n",
    "                    elif n[0] == \"R\":\n",
    "                        is_col = \"#8a062d\"\n",
    "                        note_name = n[1:-2].replace(\"{\", \"\").replace(\"}\", \"\")\n",
    "                    else:\n",
    "                        note_name = n[:-2].replace(\"{\", \"\").replace(\"}\", \"\")\n",
    "                    note_length = n[-2:]\n",
    "                else:\n",
    "                    if n[0] == \"B\":\n",
    "                        is_col = \"#06538a\"\n",
    "                        note_name = n[1:-1].replace(\"{\", \"\").replace(\"}\", \"\")\n",
    "                    elif n[0] == \"R\":\n",
    "                        is_col = \"#8a062d\"\n",
    "                        note_name = n[1:-1].replace(\"{\", \"\").replace(\"}\", \"\")\n",
    "                    else:\n",
    "                        note_name = n[:-1].replace(\"{\", \"\").replace(\"}\", \"\")\n",
    "                    note_length = n[-1:]\n",
    "            lengths = [\n",
    "                [\"w\", 4],\n",
    "                [\"h\", 2],\n",
    "                [\"d\", 3],\n",
    "                [\"q\", 1],\n",
    "                [\"u\", 1.5],\n",
    "                [\"e\", 0.5],\n",
    "                [\"s\", 0.25],\n",
    "            ]\n",
    "            for l in lengths:\n",
    "                if isinstance(note_length, str):\n",
    "                    if l[0] in note_length:\n",
    "                        if \"t\" in note_length:\n",
    "                            note_length = l[1] * 0.333333333\n",
    "                        else:\n",
    "                            note_length = l[1]\n",
    "            if is_tie == \"none\":\n",
    "                if is_col == \"\":\n",
    "                    if lyric != \"\":\n",
    "                        add_notes.append([note_name, note_length, lyric])\n",
    "                    else:\n",
    "                        add_notes.append([note_name, note_length])\n",
    "                else:\n",
    "                    if lyric != \"\":\n",
    "                        add_notes.append([note_name, note_length, is_col, lyric])\n",
    "                    else:\n",
    "                        add_notes.append([note_name, note_length, is_col])\n",
    "            else:\n",
    "                if is_col == \"\":\n",
    "                    if lyric != \"\":\n",
    "                        add_notes.append([note_name, note_length, is_tie, lyric])\n",
    "                    else:\n",
    "                        add_notes.append([note_name, note_length, is_col, is_tie])\n",
    "                else:\n",
    "                    if lyric != \"\":\n",
    "                        add_notes.append(\n",
    "                            [note_name, note_length, is_tie, is_col, lyric]\n",
    "                        )\n",
    "                    else:\n",
    "                        add_notes.append([note_name, note_length, is_tie, is_col])\n",
    "\n",
    "    for n in add_notes:\n",
    "        if isinstance(n, list):\n",
    "            if isinstance(n[0], list):\n",
    "                if len(n) == 3:\n",
    "                    add_n = chord.Chord(n[0], quarterLength=n[1])\n",
    "                    if n[2] in [\"start\", \"stop\"]:\n",
    "                        add_n.tie = tie.Tie(n[2])\n",
    "                    else:\n",
    "                        if \"-\" in n[2]:\n",
    "                            texp = expressions.TextExpression(n[2].replace(\"-\", \" \"))\n",
    "                        else:\n",
    "                            texp = expressions.TextExpression(n[2])\n",
    "                        texp.style.fontSize = 10\n",
    "                        # texp.style.fontFamily = \"Segoe UI\"\n",
    "                        texp.style.fontFamily = \"Times New Roman\"\n",
    "                        texp.placement = \"below\"\n",
    "                        part.append(texp)\n",
    "                else:\n",
    "                    add_n = chord.Chord(n[0], quarterLength=n[1])\n",
    "            else:\n",
    "                if n[0].lower() == \"r\":\n",
    "                    add_n = note.Rest(quarterLength=n[1])\n",
    "                elif n[0] in [\"slash\", \"s\"]:\n",
    "                    add_n = note.Unpitched()\n",
    "                    add_n.notehead = \"slash\"\n",
    "                    add_n.stemDirection = \"noStem\"\n",
    "                    add_n.volume.velocity = 0\n",
    "                elif n[0] not in [\"r\", \"slash\", \"s\"]:\n",
    "                    add_n = note.Note(n[0], quarterLength=n[1])\n",
    "            if len(n) == 3:\n",
    "                if n[2] in [\"start\", \"stop\"]:\n",
    "                    add_n.tie = tie.Tie(n[2])\n",
    "                elif n[2] in [\"#06538a\", \"#8a062d\"]:\n",
    "                    add_n.style.color = n[2]\n",
    "                else:\n",
    "                    texp = expressions.TextExpression(n[2].replace(\"-\", \" \"))\n",
    "                    texp.style.fontsize = 10\n",
    "                    texp.style.fontFamily = \"Segoe UI\"\n",
    "                    texp.placement = \"below\"\n",
    "                    part.append(texp)\n",
    "            if len(n) == 4:\n",
    "                # [note_name, note_length, is_col, lyric]\n",
    "                if n[2] in [\"start\", \"stop\"]:\n",
    "                    add_n.tie = tie.Tie(n[2])\n",
    "                else:\n",
    "                    add_n.style.color = n[2]\n",
    "                if n[3] not in [\"#06538a\", \"#8a062d\", \"start\", \"stop\"]:\n",
    "                    texp = expressions.TextExpression(n[3].replace(\"-\", \" \"))\n",
    "                    texp.style.fontSize = 10\n",
    "                    texp.style.fontFamily = \"Segoe UI\"\n",
    "                    texp.placement = \"below\"\n",
    "                    part.append(texp)\n",
    "                elif n[3] in [\"start\", \"stop\"]:\n",
    "                    add_n.tie = tie.Tie(n[3])\n",
    "                else:\n",
    "                    add_n.style.color = n[3]\n",
    "            elif len(n) == 5:\n",
    "                add_n.tie = tie.Tie(n[2])\n",
    "                add_n.style.color = n[3]\n",
    "                texp = expressions.TextExpression(n[4].replace(\"-\", \"\"))\n",
    "                texp.style.fontSize = 10\n",
    "                texp.style.fontFamily = \"Segoe UI\"\n",
    "                texp.placement = \"below\"\n",
    "                part.append(texp)\n",
    "            part.append(add_n)\n",
    "        else:\n",
    "            part.append(n)\n",
    "\n",
    "    if info[0].lower() == \"guitar\":\n",
    "        part.makeNotation()\n",
    "\n",
    "    s.append(part)\n",
    "\n",
    "    if info[0].lower() == \"guitar\":\n",
    "        s.makeNotation()\n",
    "\n",
    "    swung_part = stream.Part()\n",
    "\n",
    "    if midi:\n",
    "        step = 0.0\n",
    "        for item in part:\n",
    "            if isinstance(item, note.Note) or isinstance(item, note.Rest):\n",
    "                if str(step)[-1] == \"9\":\n",
    "                    step = float(round(step))\n",
    "                elif str(step)[-1] == \"2\":\n",
    "                    step = float(round(step))\n",
    "                if isinstance(item, note.Note):\n",
    "                    new_note = note.Note(item.pitch)\n",
    "                    if item.tie:\n",
    "                        if \"start\" in str(item.tie):\n",
    "                            new_note.tie = tie.Tie(\"start\")\n",
    "                        if \"stop\" in str(item.tie):\n",
    "                            new_note.tie = tie.Tie(\"stop\")\n",
    "                        if \"continue\" in str(item.tie):\n",
    "                            new_note.tie = tie.Tie(\"continue\")\n",
    "                else:\n",
    "                    new_note = note.Rest()\n",
    "                if str(step)[-2:] == \".0\":\n",
    "                    if item.quarterLength == 0.5:\n",
    "                        new_note.quarterLength = 0.333333333 * 2\n",
    "                    elif item.quarterLength == 1.5:\n",
    "                        new_note.quarterLength = 1 + (0.333333333 * 2)\n",
    "                    elif str(item.quarterLength) == \"1/3\":\n",
    "                        new_note.quarterLength = 0.333333333\n",
    "                    else:\n",
    "                        new_note.quarterLength = item.quarterLength\n",
    "                elif str(step)[-2:] == \".5\":\n",
    "                    if item.quarterLength == 0.5:\n",
    "                        new_note.quarterLength = 0.333333333\n",
    "                    elif item.quarterLength == 1.5:\n",
    "                        new_note.quarterLength = 1 + 0.333333333\n",
    "                    else:\n",
    "                        new_note.quarterLength = item.quarterLength\n",
    "                if str(item.quarterLength) == \"1/3\":\n",
    "                    new_note.quarterLength = 0.333333333\n",
    "                swung_part.append(new_note)\n",
    "                step += item.quarterLength\n",
    "            else:\n",
    "                swung_part.append(item)\n",
    "        swung_s = stream.Stream()\n",
    "        swung_s.append(tempo.MetronomeMark(number=int(info[3])))\n",
    "        guitar = instrument.Guitar()\n",
    "        swung_s.append(guitar)\n",
    "        swung_s.append(swung_part)\n",
    "        return swung_s.show(\"midi\")\n",
    "    else:\n",
    "        s2 = stream.Stream()\n",
    "        p2 = stream.Part()\n",
    "        for item in s:\n",
    "            if \"part\" in str(item).lower():\n",
    "                for i in range(0, len(item)):\n",
    "                    if item[i] != item[i - 1]:\n",
    "                        p2.append(item[i])\n",
    "            else:\n",
    "                s2.append(item)\n",
    "        s2.append(p2)\n",
    "        return Image(filename=s2.write(\"musicxml.png\"))"
   ]
  },
  {
   "cell_type": "markdown",
   "id": "23fc31ef",
   "metadata": {},
   "source": [
    "# The Jazz Language\n",
    "\n",
    "### A Theory Text for Jazz Composition and Improvisation\n",
    "\n",
    "## by Dan Haerle\n",
    "\n",
    "*Converted to custom Jupyter notebook by Chris Wright.*"
   ]
  },
  {
   "cell_type": "markdown",
   "id": "da8527d3",
   "metadata": {},
   "source": [
    "# Introduction\n",
    "\n",
    "The jazz language is a specialized form of communication within the world of music. To be able to express himself fluently, the jazz musician must have a good grasp of the grammar, vocabulary and structures of this language. This simply means that he must have a thorough understanding of the construction of chords and scales and a ready knowledge of their applications as resources which are available to serve his expression.\n",
    "\n",
    "This book presents all of the materials commonly used by the jazz musician in a logical order dictated both by complexity and need. Some of the materials discussed are more relevant to the needs of a writer and others more useful to an improviser. The book is not intended to be either an arranging or improvisation text but merely a reference providing the information a musician needs to pursue any activity he wishes.\n",
    "\n",
    "At the end of each chapter is found a set of study questions. These relate directly to the text material of the preceding chapter and serve as either a review guide or as an indicator of one's understanding of the context. Writing, keyboard and ear-training exercises are also included. Obviously, these exercises are relevant to the use of the book as a text for a jazz theory course. However, the student pursuing an understanding of the jazz idiom through individual study should also make use of these exercises.\n",
    "\n",
    "Students are encouraged to use the piano keyboard as a graphic means of visualizing concepts relating to chord and scale construction. The keyboard exercises provided are intended to give the musician a basic functional use of the piano as a tool. However, the piano should be used in all facets of the growth of either a writer or improviser for solid understanding of harmonic concepts."
   ]
  },
  {
   "cell_type": "markdown",
   "id": "40fb9c85",
   "metadata": {},
   "source": [
    "# 1. Intervals\n",
    "\n",
    "Intervals are found both in horizontal (melodic) and vertical (harmonic) structures in music. A musician in any idiom of music must be thoroughly grounded in a solid understanding of intervals in the following ways:\n",
    "\n",
    "1) He must know how to spell (construct) them in any key.\n",
    "2) He must be able to identify them both visually and aurally when he sees or hears them.\n",
    "3) He must be able to conceptualize the intervals by singing, either vocally or internally.\n",
    "4) He must be able to play them anywhere within the range of his instrument.\n",
    "\n",
    "An interval is simply the distance between two notes. This distance is measured by the number of whole and/or half steps between the two notes involved. Sometimes an interval may be defined as a combination of two smaller intervals. An example of both ways of thinking might be the following: A perfect 5th consists of 31⁄2 steps or is the combination of a major 3rd and a minor 3rd."
   ]
  },
  {
   "cell_type": "code",
   "execution_count": 7,
   "id": "26f6fa70",
   "metadata": {},
   "outputs": [
    {
     "name": "stdout",
     "output_type": "stream",
     "text": [
      "Example 1\n"
     ]
    },
    {
     "data": {
      "text/html": [
       "\n",
       "        <div id=\"midiPlayerDiv1402\"></div>\n",
       "        <link rel=\"stylesheet\" href=\"https://cuthbertLab.github.io/music21j/css/m21.css\">\n",
       "        \n",
       "        <script\n",
       "        src=\"https://cdnjs.cloudflare.com/ajax/libs/require.js/2.3.6/require.min.js\"\n",
       "        ></script>\n",
       "    \n",
       "        <script>\n",
       "        function midiPlayerDiv1402_play() {\n",
       "            const rq = require.config({\n",
       "                paths: {\n",
       "                    'music21': 'https://cuthbertLab.github.io/music21j/releases/music21.debug',\n",
       "                }\n",
       "            });\n",
       "            rq(['music21'], function(music21) {\n",
       "                mp = new music21.miditools.MidiPlayer();\n",
       "                mp.addPlayer(\"#midiPlayerDiv1402\");\n",
       "                mp.base64Load(\"data:audio/midi;base64,TVRoZAAAAAYAAQACJ2BNVHJrAAAAGgD/UQMHoSAA/1kCAAAA/1gEBAIYCM5g/y8ATVRyawAAAGgA/wMAAOAAQM5gkDxaAJBDWoK7AIA8AACAQwAAkDxatECAPAAAkD5amiCAPgAAkEBatECAQAAAkEFamiCAQQAAkENatECAQwAAkEVamiCARQAAkEdatECARwAAkEhamiCASADOYP8vAA==\");\n",
       "            });\n",
       "        }\n",
       "        if (typeof require === 'undefined') {\n",
       "            setTimeout(midiPlayerDiv1402_play, 2000);\n",
       "        } else {\n",
       "            midiPlayerDiv1402_play();\n",
       "        }\n",
       "        </script>"
      ],
      "text/plain": [
       "<IPython.core.display.HTML object>"
      ]
     },
     "metadata": {},
     "output_type": "display_data"
    },
    {
     "data": {
      "image/png": "[encoded data removed]",
      "text/plain": [
       "<IPython.core.display.Image object>"
      ]
     },
     "execution_count": 7,
     "metadata": {},
     "output_type": "execute_result"
    }
   ],
   "source": [
    "example1 = \"INFO treble c 4/4 120 INFO (c4,g4)w[Perf.5th] c4e[1] d4e[1] e4e[1] f4e[1/2] g4e[1] a4e[1] b4e[1/2] c5e\"\n",
    "\n",
    "print(\"Example 1\")\n",
    "\n",
    "music(example1, True)\n",
    "music(example1)"
   ]
  },
  {
   "cell_type": "markdown",
   "id": "87802093",
   "metadata": {},
   "source": [
    "There are basically two kinds of intervals: *melodic* and *harmonic*. Melodic intervals are those which involve two successive tones and harmonic intervals consist of two tones which occur simultaneously."
   ]
  },
  {
   "cell_type": "code",
   "execution_count": 9,
   "id": "0f8d48df",
   "metadata": {},
   "outputs": [
    {
     "name": "stdout",
     "output_type": "stream",
     "text": [
      "Example 2\n"
     ]
    },
    {
     "data": {
      "text/html": [
       "\n",
       "        <div id=\"midiPlayerDiv1951\"></div>\n",
       "        <link rel=\"stylesheet\" href=\"https://cuthbertLab.github.io/music21j/css/m21.css\">\n",
       "        \n",
       "        <script\n",
       "        src=\"https://cdnjs.cloudflare.com/ajax/libs/require.js/2.3.6/require.min.js\"\n",
       "        ></script>\n",
       "    \n",
       "        <script>\n",
       "        function midiPlayerDiv1951_play() {\n",
       "            const rq = require.config({\n",
       "                paths: {\n",
       "                    'music21': 'https://cuthbertLab.github.io/music21j/releases/music21.debug',\n",
       "                }\n",
       "            });\n",
       "            rq(['music21'], function(music21) {\n",
       "                mp = new music21.miditools.MidiPlayer();\n",
       "                mp.addPlayer(\"#midiPlayerDiv1951\");\n",
       "                mp.base64Load(\"data:audio/midi;base64,TVRoZAAAAAYAAQACJ2BNVHJrAAAAGgD/UQMHoSAA/1kCAAAA/1gEBAIYCM5g/y8ATVRyawAAADQA/wMAAOAAQM5gkEFagZ1AgEEAAJBFWoGdQIBFAACQQVoAkEVagZ1AgEEAAIBFAM5g/y8A\");\n",
       "            });\n",
       "        }\n",
       "        if (typeof require === 'undefined') {\n",
       "            setTimeout(midiPlayerDiv1951_play, 2000);\n",
       "        } else {\n",
       "            midiPlayerDiv1951_play();\n",
       "        }\n",
       "        </script>"
      ],
      "text/plain": [
       "<IPython.core.display.HTML object>"
      ]
     },
     "metadata": {},
     "output_type": "display_data"
    },
    {
     "data": {
      "image/png": "[encoded data removed]",
      "text/plain": [
       "<IPython.core.display.Image object>"
      ]
     },
     "execution_count": 9,
     "metadata": {},
     "output_type": "execute_result"
    }
   ],
   "source": [
    "example2 = \"INFO treble c 4/4 120 INFO f4h[Melodic.interval] a4h (f4,a4)h[Harmonic.Interval]\"\n",
    "\n",
    "print(\"Example 2\")\n",
    "\n",
    "music(example2, True)\n",
    "music(example2)"
   ]
  },
  {
   "cell_type": "markdown",
   "id": "1585ef56",
   "metadata": {},
   "source": [
    "Another way of conceiving intervals is to relate them to some portion of a major or minor scale. For example, a major 3rd is composed of the 1st and 3rd notes of a major scale. A good knowledge of major and minor scales is essential to many kinds of theoretical activity."
   ]
  },
  {
   "cell_type": "code",
   "execution_count": 10,
   "id": "8713afcd",
   "metadata": {},
   "outputs": [
    {
     "name": "stdout",
     "output_type": "stream",
     "text": [
      "Example 3a\n"
     ]
    },
    {
     "data": {
      "text/html": [
       "\n",
       "        <div id=\"midiPlayerDiv2214\"></div>\n",
       "        <link rel=\"stylesheet\" href=\"https://cuthbertLab.github.io/music21j/css/m21.css\">\n",
       "        \n",
       "        <script\n",
       "        src=\"https://cdnjs.cloudflare.com/ajax/libs/require.js/2.3.6/require.min.js\"\n",
       "        ></script>\n",
       "    \n",
       "        <script>\n",
       "        function midiPlayerDiv2214_play() {\n",
       "            const rq = require.config({\n",
       "                paths: {\n",
       "                    'music21': 'https://cuthbertLab.github.io/music21j/releases/music21.debug',\n",
       "                }\n",
       "            });\n",
       "            rq(['music21'], function(music21) {\n",
       "                mp = new music21.miditools.MidiPlayer();\n",
       "                mp.addPlayer(\"#midiPlayerDiv2214\");\n",
       "                mp.base64Load(\"data:audio/midi;base64,TVRoZAAAAAYAAQACJ2BNVHJrAAAAGgD/UQMHoSAA/1kCAAAA/1gEBAIYCM5g/y8ATVRyawAAAFYA/wMAAOAAQM5gkDxatECAPAAAkD5amiCAPgAAkEBatECAQAAAkEFamiCAQQAAkENatECAQwAAkEVamiCARQAAkEdatECARwAAkEhamiCASADOYP8vAA==\");\n",
       "            });\n",
       "        }\n",
       "        if (typeof require === 'undefined') {\n",
       "            setTimeout(midiPlayerDiv2214_play, 2000);\n",
       "        } else {\n",
       "            midiPlayerDiv2214_play();\n",
       "        }\n",
       "        </script>"
      ],
      "text/plain": [
       "<IPython.core.display.HTML object>"
      ]
     },
     "metadata": {},
     "output_type": "display_data"
    },
    {
     "data": {
      "image/png": "[encoded data removed]",
      "text/plain": [
       "<IPython.core.display.Image object>"
      ]
     },
     "execution_count": 10,
     "metadata": {},
     "output_type": "execute_result"
    }
   ],
   "source": [
    "example3a = \"INFO treble c 4/4 120 INFO c4e[1] d4e[2] e4e[3] f4e[4] g4e[5] a4e[6] b4e[7] c5e[8]\"\n",
    "\n",
    "print(\"Example 3a\")\n",
    "\n",
    "music(example3a, True)\n",
    "music(example3a)"
   ]
  },
  {
   "cell_type": "markdown",
   "id": "c3936090",
   "metadata": {},
   "source": [
    "**In the above example, the `1` to `3` is a Major 3rd*"
   ]
  },
  {
   "cell_type": "code",
   "execution_count": 11,
   "id": "642df076",
   "metadata": {},
   "outputs": [
    {
     "name": "stdout",
     "output_type": "stream",
     "text": [
      "Example 3b\n"
     ]
    },
    {
     "data": {
      "text/html": [
       "\n",
       "        <div id=\"midiPlayerDiv2581\"></div>\n",
       "        <link rel=\"stylesheet\" href=\"https://cuthbertLab.github.io/music21j/css/m21.css\">\n",
       "        \n",
       "        <script\n",
       "        src=\"https://cdnjs.cloudflare.com/ajax/libs/require.js/2.3.6/require.min.js\"\n",
       "        ></script>\n",
       "    \n",
       "        <script>\n",
       "        function midiPlayerDiv2581_play() {\n",
       "            const rq = require.config({\n",
       "                paths: {\n",
       "                    'music21': 'https://cuthbertLab.github.io/music21j/releases/music21.debug',\n",
       "                }\n",
       "            });\n",
       "            rq(['music21'], function(music21) {\n",
       "                mp = new music21.miditools.MidiPlayer();\n",
       "                mp.addPlayer(\"#midiPlayerDiv2581\");\n",
       "                mp.base64Load(\"data:audio/midi;base64,TVRoZAAAAAYAAQACJ2BNVHJrAAAAGgD/UQMHoSAA/1kCAAAA/1gEBAIYCM5g/y8ATVRyawAAAFYA/wMAAOAAQM5gkDxatECAPAAAkD5amiCAPgAAkD9atECAPwAAkEFamiCAQQAAkENatECAQwAAkERamiCARAAAkEZatECARgAAkEhamiCASADOYP8vAA==\");\n",
       "            });\n",
       "        }\n",
       "        if (typeof require === 'undefined') {\n",
       "            setTimeout(midiPlayerDiv2581_play, 2000);\n",
       "        } else {\n",
       "            midiPlayerDiv2581_play();\n",
       "        }\n",
       "        </script>"
      ],
      "text/plain": [
       "<IPython.core.display.HTML object>"
      ]
     },
     "metadata": {},
     "output_type": "display_data"
    },
    {
     "data": {
      "image/png": "[encoded data removed]",
      "text/plain": [
       "<IPython.core.display.Image object>"
      ]
     },
     "execution_count": 11,
     "metadata": {},
     "output_type": "execute_result"
    }
   ],
   "source": [
    "example3b = \"INFO treble c 4/4 120 INFO c4e[1] d4e[2] e-4e[3] f4e[4] g4e[5] a-4e[6] b-4e[7] c5e[8]\"\n",
    "\n",
    "print(\"Example 3b\")\n",
    "\n",
    "music(example3b, True)\n",
    "music(example3b)"
   ]
  },
  {
   "cell_type": "markdown",
   "id": "3cb976e1",
   "metadata": {},
   "source": [
    "**In the above example, the `1` to `6` is a Minor 6th*"
   ]
  },
  {
   "cell_type": "markdown",
   "id": "15edeba0",
   "metadata": {},
   "source": [
    "The following chart displays the most common major, minor, and perfect intervals. They are described in three ways: 1. by the number of whole and/or half steps, 2. by combining two smaller intervals, and 3. by locating them in a major or minor scale.\n",
    "\n",
    "| Interval | Number of steps | Interval combination | Location |\n",
    "| :--- | :--- | :--- | :--- |\n",
    "| minor 2nd | 1/2 step | (none smaller) | closest of all intervals |\n",
    "| major 2nd | 1 whole step | 2 half steps | 1 & 2, major |\n",
    "| minor 3rd | 1 1/2 steps | 3 half steps | 1 & 3, minor |\n",
    "| major 3rd | 2 whole steps | 4 half steps | 1 & 3, major |\n",
    "| perfect 4th | 2 1/2 steps | major 3rd and half step,<br>minor 3rd and whole step | 1 & 4, major or minor |\n",
    "| perfect 5th | 3 1/2 steps | major 3rd and minor 3rd,<br>perfect 4th and whole step | 1 & 5, major or minor |\n",
    "| minor 6th | 4 whole steps | minor 3rd and perfect 4th,<br>two major 3rds,<br>perfect 5th and whole step | 1 & 6, minor |\n",
    "| major 6th | 4 1/2 steps | major 3rd and perfect 4th,<br>perfect 5th and whole step | 1 & 6, major |\n",
    "| minor 7th | 5 whole steps | minor 3rd and perfect 5th,<br>two perfect 4ths | 1 & 7, minor |\n",
    "| major 7th | 5 1/2 steps | perfect 5th and major 3rd | 1 & 7, major |\n",
    "| octave | 6 whole steps | perfect 5th and perfect 4th | 1 & 8, major or minor |\n",
    "\n",
    "A musician should be able to spell intervals correctly and enharmonically. That is, a 3rd should involve two letters a 3rd apart, a 5th should involve two letters a 5th apart, and so on. However, for various musical reasons, intervals are often \"misspelled\" enharmonically with letters that produce the correct sound but are not the correct distance apart. The following example shows both the correct and enharmonic spelling of several intervals."
   ]
  },
  {
   "cell_type": "code",
   "execution_count": null,
   "id": "84b49233",
   "metadata": {},
   "outputs": [],
   "source": [
    "example4 = \"INFO treble c 4/4 120 INFO (f4,b-4)h (f4,a#4)\"\n",
    "\n",
    "print(\"Example 4\")\n",
    "\n",
    "music(example4, True)\n",
    "music(example4)"
   ]
  }
 ],
 "metadata": {
  "kernelspec": {
   "display_name": ".venv",
   "language": "python",
   "name": "python3"
  },
  "language_info": {
   "codemirror_mode": {
    "name": "ipython",
    "version": 3
   },
   "file_extension": ".py",
   "mimetype": "text/x-python",
   "name": "python",
   "nbconvert_exporter": "python",
   "pygments_lexer": "ipython3",
   "version": "3.11.6"
  }
 },
 "nbformat": 4,
 "nbformat_minor": 5
}
